{
 "cells": [
  {
   "cell_type": "code",
   "execution_count": 1,
   "id": "5ee047b0",
   "metadata": {},
   "outputs": [
    {
     "name": "stdout",
     "output_type": "stream",
     "text": [
      "How many tasks do you need to finish this month?4\n",
      "Enter the name of task 1:Bernard\n",
      "Enter the name of task 2:McCHAN\n",
      "Enter the name of task 3:WEI Ran\n",
      "Enter the name of task 4:Joni\n",
      "['Bernard', 'McCHAN', 'WEI Ran', 'Joni']\n",
      "Week of Month: 1\n",
      "Enter the hours you spent in Bernard this week: 8\n",
      "Enter the hours you spent in McCHAN this week: 3\n",
      "Enter the hours you spent in WEI Ran this week: 9\n",
      "Enter the hours you spent in Joni this week: 7\n",
      "[{'Week of Month': 'Week1', 'Bernard': '8', 'McCHAN': '3', 'WEI Ran': '9', 'Joni': '7'}]\n",
      "Week of Month: 2\n",
      "Enter the hours you spent in Bernard this week: 9\n",
      "Enter the hours you spent in McCHAN this week: 7\n",
      "Enter the hours you spent in WEI Ran this week: 6\n",
      "Enter the hours you spent in Joni this week: 5\n",
      "[{'Week of Month': 'Week1', 'Bernard': '8', 'McCHAN': '3', 'WEI Ran': '9', 'Joni': '7'}, {'Week of Month': 'Week2', 'Bernard': '9', 'McCHAN': '7', 'WEI Ran': '6', 'Joni': '5'}]\n",
      "Week of Month: 3\n",
      "Enter the hours you spent in Bernard this week: 7\n",
      "Enter the hours you spent in McCHAN this week: 6\n",
      "Enter the hours you spent in WEI Ran this week: 7\n",
      "Enter the hours you spent in Joni this week: 8\n",
      "[{'Week of Month': 'Week1', 'Bernard': '8', 'McCHAN': '3', 'WEI Ran': '9', 'Joni': '7'}, {'Week of Month': 'Week2', 'Bernard': '9', 'McCHAN': '7', 'WEI Ran': '6', 'Joni': '5'}, {'Week of Month': 'Week3', 'Bernard': '7', 'McCHAN': '6', 'WEI Ran': '7', 'Joni': '8'}]\n",
      "Week of Month: 4\n",
      "Enter the hours you spent in Bernard this week: 6\n",
      "Enter the hours you spent in McCHAN this week: 8\n",
      "Enter the hours you spent in WEI Ran this week: 7\n",
      "Enter the hours you spent in Joni this week: 6\n",
      "[{'Week of Month': 'Week1', 'Bernard': '8', 'McCHAN': '3', 'WEI Ran': '9', 'Joni': '7'}, {'Week of Month': 'Week2', 'Bernard': '9', 'McCHAN': '7', 'WEI Ran': '6', 'Joni': '5'}, {'Week of Month': 'Week3', 'Bernard': '7', 'McCHAN': '6', 'WEI Ran': '7', 'Joni': '8'}, {'Week of Month': 'Week4', 'Bernard': '6', 'McCHAN': '8', 'WEI Ran': '7', 'Joni': '6'}]\n"
     ]
    }
   ],
   "source": [
    "#### assignment\n",
    "number_of_task = input(\"How many tasks do you need to finish this month?\")\n",
    "task = range(int(number_of_task))\n",
    "week = range(4)\n",
    "task_list = []\n",
    "\n",
    "for i in task:\n",
    "    task_name = input(\"Enter the name of task \" + str(i+1) +\":\")\n",
    "    task_list.append(task_name)\n",
    "print(task_list)\n",
    "\n",
    "overall_list = []\n",
    "for w in week:\n",
    "    dict_col = {\"Week of Month\": \"Week\"+str(w+1)}\n",
    "    overall_list.append(dict_col) \n",
    "    print(\"Week of Month: \"+ str(w+1) )\n",
    "    for t in task_list:\n",
    "        hrs = input(\"Enter the hours you spent in \" + t +\" this week: \")\n",
    "        dict_col[t] = hrs\n",
    "      \n",
    "    print(overall_list)"
   ]
  },
  {
   "cell_type": "code",
   "execution_count": 2,
   "id": "fd2bd44e",
   "metadata": {},
   "outputs": [
    {
     "name": "stdout",
     "output_type": "stream",
     "text": [
      "  Week of Month Bernard McCHAN WEI Ran Joni\n",
      "0         Week1       8      3       9    7\n",
      "1         Week2       9      7       6    5\n",
      "2         Week3       7      6       7    8\n",
      "3         Week4       6      8       7    6\n"
     ]
    },
    {
     "data": {
      "text/html": [
       "<div>\n",
       "<style scoped>\n",
       "    .dataframe tbody tr th:only-of-type {\n",
       "        vertical-align: middle;\n",
       "    }\n",
       "\n",
       "    .dataframe tbody tr th {\n",
       "        vertical-align: top;\n",
       "    }\n",
       "\n",
       "    .dataframe thead th {\n",
       "        text-align: right;\n",
       "    }\n",
       "</style>\n",
       "<table border=\"1\" class=\"dataframe\">\n",
       "  <thead>\n",
       "    <tr style=\"text-align: right;\">\n",
       "      <th></th>\n",
       "      <th>Week of Month</th>\n",
       "      <th>Bernard</th>\n",
       "      <th>McCHAN</th>\n",
       "      <th>WEI Ran</th>\n",
       "      <th>Joni</th>\n",
       "    </tr>\n",
       "  </thead>\n",
       "  <tbody>\n",
       "    <tr>\n",
       "      <th>0</th>\n",
       "      <td>Week1</td>\n",
       "      <td>8</td>\n",
       "      <td>3</td>\n",
       "      <td>9</td>\n",
       "      <td>7</td>\n",
       "    </tr>\n",
       "    <tr>\n",
       "      <th>1</th>\n",
       "      <td>Week2</td>\n",
       "      <td>9</td>\n",
       "      <td>7</td>\n",
       "      <td>6</td>\n",
       "      <td>5</td>\n",
       "    </tr>\n",
       "    <tr>\n",
       "      <th>2</th>\n",
       "      <td>Week3</td>\n",
       "      <td>7</td>\n",
       "      <td>6</td>\n",
       "      <td>7</td>\n",
       "      <td>8</td>\n",
       "    </tr>\n",
       "    <tr>\n",
       "      <th>3</th>\n",
       "      <td>Week4</td>\n",
       "      <td>6</td>\n",
       "      <td>8</td>\n",
       "      <td>7</td>\n",
       "      <td>6</td>\n",
       "    </tr>\n",
       "  </tbody>\n",
       "</table>\n",
       "</div>"
      ],
      "text/plain": [
       "  Week of Month  Bernard  McCHAN  WEI Ran  Joni\n",
       "0         Week1        8       3        9     7\n",
       "1         Week2        9       7        6     5\n",
       "2         Week3        7       6        7     8\n",
       "3         Week4        6       8        7     6"
      ]
     },
     "execution_count": 2,
     "metadata": {},
     "output_type": "execute_result"
    }
   ],
   "source": [
    "import pandas as pd\n",
    "df = pd.DataFrame(overall_list)\n",
    "print(df)\n",
    "df.to_csv(\"Assignment_1.csv\", mode='w', index=False)\n",
    "df = pd.read_csv(\"Assignment_1.csv\")\n",
    "df"
   ]
  },
  {
   "cell_type": "code",
   "execution_count": 5,
   "id": "cb145ff4",
   "metadata": {},
   "outputs": [
    {
     "name": "stdout",
     "output_type": "stream",
     "text": [
      "Hours List: \n",
      " [['Week1', 8, 3, 9, 7], ['Week2', 9, 7, 6, 5], ['Week3', 7, 6, 7, 8], ['Week4', 6, 8, 7, 6]]\n",
      "\n",
      " week_of_mon ['Week1', 'Week2', 'Week3', 'Week4'] \n",
      "\n",
      "hrs_of_B [8, 9, 7, 6] \n",
      "\n",
      "hrs_of_C [3, 7, 6, 8] \n",
      "\n",
      "hrs_of_W [9, 6, 7, 7] \n",
      "\n",
      "hrs_of_J [7, 5, 8, 6] \n",
      "\n",
      "hrs_of_avg [6.75, 6.75, 7.0, 6.75] \n",
      "\n"
     ]
    },
    {
     "data": {
      "image/png": "[encoded data removed]",
      "text/plain": [
       "<Figure size 432x288 with 1 Axes>"
      ]
     },
     "metadata": {
      "needs_background": "light"
     },
     "output_type": "display_data"
    }
   ],
   "source": [
    "import pandas as pd\n",
    "import numpy as np\n",
    "from matplotlib import pyplot as plt\n",
    "df = pd.read_csv(\"Assignment_1.csv\")\n",
    "\n",
    "#plot\n",
    "hrs_list = df.values.tolist()#以values为准\n",
    "\n",
    "print(\"Hours List:\",\"\\n\",hrs_list)\n",
    "week_of_mon = []\n",
    "hrs_of_B = []\n",
    "hrs_of_C = []\n",
    "hrs_of_W = []\n",
    "hrs_of_J = []\n",
    "hrs_of_avg = []\n",
    "\n",
    "\n",
    "for i in hrs_list:\n",
    "    week_of_mon.append(i[0])\n",
    "    hrs_of_B.append(i[1])\n",
    "    hrs_of_C.append(i[2])\n",
    "    hrs_of_W.append(i[3])\n",
    "    hrs_of_J.append(i[4])\n",
    "    hrs_of_avg.append(np.mean(i[1:]))\n",
    "\n",
    "print(\"\\n\",\"week_of_mon\",week_of_mon,\"\\n\")\n",
    "print(\"hrs_of_B\",hrs_of_B,\"\\n\")\n",
    "print(\"hrs_of_C\",hrs_of_C,\"\\n\")\n",
    "print(\"hrs_of_W\",hrs_of_W,\"\\n\")\n",
    "print(\"hrs_of_J\",hrs_of_J,\"\\n\")\n",
    "print(\"hrs_of_avg\",hrs_of_avg,\"\\n\")\n",
    "\n",
    "plt.plot(week_of_mon, hrs_of_B, color='purple',marker='s')\n",
    "plt.plot(week_of_mon, hrs_of_C, color='blue',marker='s')\n",
    "plt.plot(week_of_mon, hrs_of_W, color='red',marker='s')\n",
    "plt.plot(week_of_mon, hrs_of_J, color='yellow',marker='s')\n",
    "plt.plot(week_of_mon, hrs_of_avg, color='green',linestyle='--',marker='d')\n",
    "\n",
    "plt.legend(['Bernard', 'McChan','WEI Ran','Joni',\"Average\"])\n",
    "plt.xlabel(\"Week of Month\")\n",
    "plt.ylabel(\"Hours\")\n",
    "plt.title('Track your learning progress!')\n",
    "\n",
    "x_ticks = np.arange(0, 5, 1)\n",
    "plt.xticks(x_ticks)\n",
    "\n",
    "plt.show()"
   ]
  }
 ],
 "metadata": {
  "kernelspec": {
   "display_name": "Python 3",
   "language": "python",
   "name": "python3"
  },
  "language_info": {
   "codemirror_mode": {
    "name": "ipython",
    "version": 3
   },
   "file_extension": ".py",
   "mimetype": "text/x-python",
   "name": "python",
   "nbconvert_exporter": "python",
   "pygments_lexer": "ipython3",
   "version": "3.8.8"
  }
 },
 "nbformat": 4,
 "nbformat_minor": 5
}
