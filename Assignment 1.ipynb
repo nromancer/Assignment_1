{
 "cells": [
  {
   "cell_type": "code",
   "execution_count": 1,
   "id": "5ee047b0",
   "metadata": {},
   "outputs": [
    {
     "name": "stdout",
     "output_type": "stream",
     "text": [
      "How many tasks do you need to finish this month?4\n",
      "Enter the name of task 1:Bernard\n",
      "Enter the hours you spent in Bernard in Week 1:8\n",
      "Enter the hours you spent in Bernard in Week 2:9\n",
      "Enter the hours you spent in Bernard in Week 3:7\n",
      "Enter the hours you spent in Bernard in Week 4:6\n",
      "Enter the name of task 2:McChan\n",
      "Enter the hours you spent in McChan in Week 1:3\n",
      "Enter the hours you spent in McChan in Week 2:7\n",
      "Enter the hours you spent in McChan in Week 3:6\n",
      "Enter the hours you spent in McChan in Week 4:8\n",
      "Enter the name of task 3:WEI Ran\n",
      "Enter the hours you spent in WEI Ran in Week 1:9\n",
      "Enter the hours you spent in WEI Ran in Week 2:6\n",
      "Enter the hours you spent in WEI Ran in Week 3:7\n",
      "Enter the hours you spent in WEI Ran in Week 4:7\n",
      "Enter the name of task 4:Joni\n",
      "Enter the hours you spent in Joni in Week 1:7\n",
      "Enter the hours you spent in Joni in Week 2:5\n",
      "Enter the hours you spent in Joni in Week 3:8\n",
      "Enter the hours you spent in Joni in Week 4:6\n",
      "[{'Task': 'Bernard', 'Week1': '8', 'Week2': '9', 'Week3': '7', 'Week4': '6'}, {'Task': 'McChan', 'Week1': '3', 'Week2': '7', 'Week3': '6', 'Week4': '8'}, {'Task': 'WEI Ran', 'Week1': '9', 'Week2': '6', 'Week3': '7', 'Week4': '7'}, {'Task': 'Joni', 'Week1': '7', 'Week2': '5', 'Week3': '8', 'Week4': '6'}]\n"
     ]
    }
   ],
   "source": [
    "#### assignment\n",
    "number_of_task = input(\"How many tasks do you need to finish this month?\")\n",
    "task = range(int(number_of_task))\n",
    "week = range(4)\n",
    "list = []\n",
    "for t in task:\n",
    "    task_name = input(\"Enter the name of task \" + str(t+1) +\":\")\n",
    "    dict_row = {\"Task\":task_name}\n",
    "    for w in week:\n",
    "        hrs = input(\"Enter the hours you spent in \" + task_name +\" in Week \"+ str(w+1) + \":\")\n",
    "        dict_row[\"Week\"+ str(w+1)] = hrs #向字典里添加新的值：dict['key'] = \"value\"\n",
    "    list.append(dict_row)        \n",
    "print(list)"
   ]
  },
  {
   "cell_type": "code",
   "execution_count": 3,
   "id": "fd2bd44e",
   "metadata": {},
   "outputs": [
    {
     "name": "stdout",
     "output_type": "stream",
     "text": [
      "      Task Week1 Week2 Week3 Week4\n",
      "0  Bernard     8     9     7     6\n",
      "1   McChan     3     7     6     8\n",
      "2  WEI Ran     9     6     7     7\n",
      "3     Joni     7     5     8     6\n"
     ]
    },
    {
     "data": {
      "text/html": [
       "<div>\n",
       "<style scoped>\n",
       "    .dataframe tbody tr th:only-of-type {\n",
       "        vertical-align: middle;\n",
       "    }\n",
       "\n",
       "    .dataframe tbody tr th {\n",
       "        vertical-align: top;\n",
       "    }\n",
       "\n",
       "    .dataframe thead th {\n",
       "        text-align: right;\n",
       "    }\n",
       "</style>\n",
       "<table border=\"1\" class=\"dataframe\">\n",
       "  <thead>\n",
       "    <tr style=\"text-align: right;\">\n",
       "      <th></th>\n",
       "      <th>Task</th>\n",
       "      <th>Week1</th>\n",
       "      <th>Week2</th>\n",
       "      <th>Week3</th>\n",
       "      <th>Week4</th>\n",
       "    </tr>\n",
       "  </thead>\n",
       "  <tbody>\n",
       "    <tr>\n",
       "      <th>0</th>\n",
       "      <td>Bernard</td>\n",
       "      <td>8</td>\n",
       "      <td>9</td>\n",
       "      <td>7</td>\n",
       "      <td>6</td>\n",
       "    </tr>\n",
       "    <tr>\n",
       "      <th>1</th>\n",
       "      <td>McChan</td>\n",
       "      <td>3</td>\n",
       "      <td>7</td>\n",
       "      <td>6</td>\n",
       "      <td>8</td>\n",
       "    </tr>\n",
       "    <tr>\n",
       "      <th>2</th>\n",
       "      <td>WEI Ran</td>\n",
       "      <td>9</td>\n",
       "      <td>6</td>\n",
       "      <td>7</td>\n",
       "      <td>7</td>\n",
       "    </tr>\n",
       "    <tr>\n",
       "      <th>3</th>\n",
       "      <td>Joni</td>\n",
       "      <td>7</td>\n",
       "      <td>5</td>\n",
       "      <td>8</td>\n",
       "      <td>6</td>\n",
       "    </tr>\n",
       "  </tbody>\n",
       "</table>\n",
       "</div>"
      ],
      "text/plain": [
       "      Task  Week1  Week2  Week3  Week4\n",
       "0  Bernard      8      9      7      6\n",
       "1   McChan      3      7      6      8\n",
       "2  WEI Ran      9      6      7      7\n",
       "3     Joni      7      5      8      6"
      ]
     },
     "execution_count": 3,
     "metadata": {},
     "output_type": "execute_result"
    }
   ],
   "source": [
    "import pandas as pd\n",
    "df = pd.DataFrame(list)\n",
    "print(df)\n",
    "df.to_csv(\"Assignment_1.csv\", mode='w', index=False)\n",
    "df = pd.read_csv(\"Assignment_1.csv\")\n",
    "df"
   ]
  },
  {
   "cell_type": "code",
   "execution_count": 4,
   "id": "cb145ff4",
   "metadata": {},
   "outputs": [
    {
     "name": "stdout",
     "output_type": "stream",
     "text": [
      "Hours List: \n",
      " [['Bernard', 8, 9, 7, 6], ['McChan', 3, 7, 6, 8], ['WEI Ran', 9, 6, 7, 7], ['Joni', 7, 5, 8, 6]]\n",
      "\n",
      " my tasks ['Bernard', 'McChan', 'WEI Ran', 'Joni'] \n",
      "\n",
      "hrs_of_1 [8, 3, 9, 7] \n",
      "\n",
      "hrs_of_2 [9, 7, 6, 5] \n",
      "\n",
      "hrs_of_3 [7, 6, 7, 8] \n",
      "\n",
      "hrs_of_4 [6, 8, 7, 6] \n",
      "\n",
      "hrs_of_avg [7.5, 6.0, 7.25, 6.5] \n",
      "\n"
     ]
    },
    {
     "data": {
      "image/png": "[encoded data removed]",
      "text/plain": [
       "<Figure size 432x288 with 1 Axes>"
      ]
     },
     "metadata": {
      "needs_background": "light"
     },
     "output_type": "display_data"
    }
   ],
   "source": [
    "import pandas as pd\n",
    "import numpy as np\n",
    "from matplotlib import pyplot as plt\n",
    "df = pd.read_csv(\"Assignment_1.csv\")\n",
    "\n",
    "#plot\n",
    "hrs_list = df.values.tolist()#以values为准\n",
    "\n",
    "print(\"Hours List:\",\"\\n\",hrs_list)\n",
    "my_tasks = []\n",
    "hrs_of_1 = []\n",
    "hrs_of_2 = []\n",
    "hrs_of_3 = []\n",
    "hrs_of_4 = []\n",
    "hrs_of_avg = []\n",
    "\n",
    "\n",
    "for i in hrs_list:\n",
    "    my_tasks.append(i[0])\n",
    "    hrs_of_1.append(i[1])\n",
    "    hrs_of_2.append(i[2])\n",
    "    hrs_of_3.append(i[3])\n",
    "    hrs_of_4.append(i[4])\n",
    "    hrs_of_avg.append(np.mean(i[1:]))\n",
    "\n",
    "print(\"\\n\",\"my tasks\",my_tasks,\"\\n\")\n",
    "print(\"hrs_of_1\",hrs_of_1,\"\\n\")\n",
    "print(\"hrs_of_2\",hrs_of_2,\"\\n\")\n",
    "print(\"hrs_of_3\",hrs_of_3,\"\\n\")\n",
    "print(\"hrs_of_4\",hrs_of_4,\"\\n\")\n",
    "print(\"hrs_of_avg\",hrs_of_avg,\"\\n\")\n",
    "\n",
    "plt.plot(my_tasks, hrs_of_1, color='purple',marker='s')\n",
    "plt.plot(my_tasks, hrs_of_2, color='blue',marker='s')\n",
    "plt.plot(my_tasks, hrs_of_3, color='red',marker='s')\n",
    "plt.plot(my_tasks, hrs_of_4, color='yellow',marker='s')\n",
    "plt.plot(my_tasks, hrs_of_avg, color='green',linestyle='--',marker='d')\n",
    "\n",
    "plt.legend(['Week1', 'Week2','Week3','Week4',\"Average\"])\n",
    "plt.xlabel(\"My tasks\")\n",
    "plt.ylabel(\"Hours\")\n",
    "plt.title(' Track your learning progress!')\n",
    "plt.show()"
   ]
  }
 ],
 "metadata": {
  "kernelspec": {
   "display_name": "Python 3",
   "language": "python",
   "name": "python3"
  },
  "language_info": {
   "codemirror_mode": {
    "name": "ipython",
    "version": 3
   },
   "file_extension": ".py",
   "mimetype": "text/x-python",
   "name": "python",
   "nbconvert_exporter": "python",
   "pygments_lexer": "ipython3",
   "version": "3.8.8"
  }
 },
 "nbformat": 4,
 "nbformat_minor": 5
}
